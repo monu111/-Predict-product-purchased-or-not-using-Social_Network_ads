{
  "nbformat": 4,
  "nbformat_minor": 0,
  "metadata": {
    "colab": {
      "name": "icc_ranking.ipynb",
      "provenance": [],
      "toc_visible": true,
      "authorship_tag": "ABX9TyNxbcFPMf+Vvc3GsqR79wEk",
      "include_colab_link": true
    },
    "kernelspec": {
      "name": "python3",
      "display_name": "Python 3"
    },
    "language_info": {
      "name": "python"
    }
  },
  "cells": [
    {
      "cell_type": "markdown",
      "metadata": {
        "id": "view-in-github",
        "colab_type": "text"
      },
      "source": [
        "<a href=\"https://colab.research.google.com/github/monu111/-Predict-product-purchased-or-not-using-Social_Network_ads/blob/master/icc_ranking.ipynb\" target=\"_parent\"><img src=\"https://colab.research.google.com/assets/colab-badge.svg\" alt=\"Open In Colab\"/></a>"
      ]
    },
    {
      "cell_type": "markdown",
      "metadata": {
        "id": "y1RyQR7fwqeU"
      },
      "source": [
        "# Objective : Scrape the data given below:\n",
        "- Top ODI Batsmen in men along with the records of their team and rating. \n",
        "- Top ODI bowlers along with the records of their team and rating.\n",
        "- Top ODI All rounder along with the records of their team and rating.\n"
      ]
    },
    {
      "cell_type": "code",
      "metadata": {
        "colab": {
          "base_uri": "https://localhost:8080/"
        },
        "id": "wM49jz8zjo14",
        "outputId": "cddaf93d-7c8d-467e-9608-a0978927c24d"
      },
      "source": [
        "from google.colab import drive\n",
        "drive.mount('/content/drive')"
      ],
      "execution_count": 2,
      "outputs": [
        {
          "output_type": "stream",
          "text": [
            "Mounted at /content/drive\n"
          ],
          "name": "stdout"
        }
      ]
    },
    {
      "cell_type": "code",
      "metadata": {
        "colab": {
          "base_uri": "https://localhost:8080/"
        },
        "id": "fCKwMAM024zr",
        "outputId": "cdd3c4b6-9ab2-4730-b536-dd3073e3ee73"
      },
      "source": [
        "%cd /content/drive/MyDrive/Colab Notebooks/Web Scrapping/icc_criket team"
      ],
      "execution_count": 3,
      "outputs": [
        {
          "output_type": "stream",
          "text": [
            "/content/drive/MyDrive/Colab Notebooks/Web Scrapping/icc_criket team\n"
          ],
          "name": "stdout"
        }
      ]
    },
    {
      "cell_type": "markdown",
      "metadata": {
        "id": "bEaFpqMskqR1"
      },
      "source": [
        "# 0. Objective : Scraping the team ranking"
      ]
    },
    {
      "cell_type": "markdown",
      "metadata": {
        "id": "LPH4XDb4l2FU"
      },
      "source": [
        "### importing the library"
      ]
    },
    {
      "cell_type": "code",
      "metadata": {
        "id": "20bknROmllHn"
      },
      "source": [
        "import requests\n",
        "import pandas as pd\n",
        "from bs4 import BeautifulSoup as bs\n",
        "import csv"
      ],
      "execution_count": 164,
      "outputs": []
    },
    {
      "cell_type": "code",
      "metadata": {
        "id": "UbeVRNZYl5oU"
      },
      "source": [
        "url = 'https://www.icc-cricket.com/rankings/mens/team-rankings/odi'\n",
        "r = requests.get(url)"
      ],
      "execution_count": 165,
      "outputs": []
    },
    {
      "cell_type": "code",
      "metadata": {
        "id": "XuaC_H3IpTGe"
      },
      "source": [
        "soup = bs(r.text, 'html.parser')\n",
        "table  = soup.find('table', class_=\"table\")\n",
        "body = table.find('tbody')\n",
        "\n",
        "tr = body.find_all('tr')\n",
        "row = []\n",
        "\n",
        "# looping through the tr tag to extract the data\n",
        "for i in tr:\n",
        "  row_data = i.find_all('td')\n",
        "  l = []\n",
        "  for j in row_data:\n",
        "    p = j.text.strip().split('\\n')\n",
        "    \n",
        "    l.append(p)\n",
        "\n",
        "  row.append(l)\n"
      ],
      "execution_count": 166,
      "outputs": []
    },
    {
      "cell_type": "markdown",
      "metadata": {
        "id": "AQAX9giq0Zj0"
      },
      "source": [
        "#### Extracting the data from the row"
      ]
    },
    {
      "cell_type": "code",
      "metadata": {
        "id": "zIokLdx3w8ji"
      },
      "source": [
        "list = []\n",
        "for i in row:\n",
        "  #print(i)\n",
        "  pos = i[0][0]\n",
        "  team = i[1][0]\n",
        "  matches = i[2][0]\n",
        "  point = i[3][0]\n",
        "  rating = i[4][0]\n",
        "  \n",
        "  #---------------------------------------Saving the data into list of dictionary--------------------------------\n",
        "  d = {\n",
        "      'POS' : pos,\n",
        "       'TEAM' : team,\n",
        "       'MATCHES' : matches,\n",
        "       'POINTS' : point,\n",
        "       'RATING' : rating\n",
        "       }\n",
        "  list.append(d)"
      ],
      "execution_count": 167,
      "outputs": []
    },
    {
      "cell_type": "code",
      "metadata": {
        "colab": {
          "base_uri": "https://localhost:8080/",
          "height": 644
        },
        "id": "c06ZGr-T0kmB",
        "outputId": "1f1a2d75-bbe7-4125-c1ab-5db59de8c9ec"
      },
      "source": [
        "df = pd.DataFrame(list)\n",
        "df"
      ],
      "execution_count": 168,
      "outputs": [
        {
          "output_type": "execute_result",
          "data": {
            "text/html": [
              "<div>\n",
              "<style scoped>\n",
              "    .dataframe tbody tr th:only-of-type {\n",
              "        vertical-align: middle;\n",
              "    }\n",
              "\n",
              "    .dataframe tbody tr th {\n",
              "        vertical-align: top;\n",
              "    }\n",
              "\n",
              "    .dataframe thead th {\n",
              "        text-align: right;\n",
              "    }\n",
              "</style>\n",
              "<table border=\"1\" class=\"dataframe\">\n",
              "  <thead>\n",
              "    <tr style=\"text-align: right;\">\n",
              "      <th></th>\n",
              "      <th>POS</th>\n",
              "      <th>TEAM</th>\n",
              "      <th>MATCHES</th>\n",
              "      <th>POINTS</th>\n",
              "      <th>RATING</th>\n",
              "    </tr>\n",
              "  </thead>\n",
              "  <tbody>\n",
              "    <tr>\n",
              "      <th>0</th>\n",
              "      <td>1</td>\n",
              "      <td>New Zealand</td>\n",
              "      <td>17</td>\n",
              "      <td>2,054</td>\n",
              "      <td>121</td>\n",
              "    </tr>\n",
              "    <tr>\n",
              "      <th>1</th>\n",
              "      <td>2</td>\n",
              "      <td>Australia</td>\n",
              "      <td>25</td>\n",
              "      <td>2,945</td>\n",
              "      <td>118</td>\n",
              "    </tr>\n",
              "    <tr>\n",
              "      <th>2</th>\n",
              "      <td>3</td>\n",
              "      <td>India</td>\n",
              "      <td>29</td>\n",
              "      <td>3,344</td>\n",
              "      <td>115</td>\n",
              "    </tr>\n",
              "    <tr>\n",
              "      <th>3</th>\n",
              "      <td>4</td>\n",
              "      <td>England</td>\n",
              "      <td>27</td>\n",
              "      <td>3,100</td>\n",
              "      <td>115</td>\n",
              "    </tr>\n",
              "    <tr>\n",
              "      <th>4</th>\n",
              "      <td>5</td>\n",
              "      <td>South Africa</td>\n",
              "      <td>20</td>\n",
              "      <td>2,137</td>\n",
              "      <td>107</td>\n",
              "    </tr>\n",
              "    <tr>\n",
              "      <th>5</th>\n",
              "      <td>6</td>\n",
              "      <td>Pakistan</td>\n",
              "      <td>24</td>\n",
              "      <td>2,323</td>\n",
              "      <td>97</td>\n",
              "    </tr>\n",
              "    <tr>\n",
              "      <th>6</th>\n",
              "      <td>7</td>\n",
              "      <td>Bangladesh</td>\n",
              "      <td>24</td>\n",
              "      <td>2,157</td>\n",
              "      <td>90</td>\n",
              "    </tr>\n",
              "    <tr>\n",
              "      <th>7</th>\n",
              "      <td>8</td>\n",
              "      <td>West Indies</td>\n",
              "      <td>27</td>\n",
              "      <td>2,222</td>\n",
              "      <td>82</td>\n",
              "    </tr>\n",
              "    <tr>\n",
              "      <th>8</th>\n",
              "      <td>9</td>\n",
              "      <td>Sri Lanka</td>\n",
              "      <td>21</td>\n",
              "      <td>1,652</td>\n",
              "      <td>79</td>\n",
              "    </tr>\n",
              "    <tr>\n",
              "      <th>9</th>\n",
              "      <td>10</td>\n",
              "      <td>Afghanistan</td>\n",
              "      <td>17</td>\n",
              "      <td>1,054</td>\n",
              "      <td>62</td>\n",
              "    </tr>\n",
              "    <tr>\n",
              "      <th>10</th>\n",
              "      <td>11</td>\n",
              "      <td>Netherlands</td>\n",
              "      <td>2</td>\n",
              "      <td>99</td>\n",
              "      <td>50</td>\n",
              "    </tr>\n",
              "    <tr>\n",
              "      <th>11</th>\n",
              "      <td>12</td>\n",
              "      <td>Ireland</td>\n",
              "      <td>18</td>\n",
              "      <td>818</td>\n",
              "      <td>45</td>\n",
              "    </tr>\n",
              "    <tr>\n",
              "      <th>12</th>\n",
              "      <td>13</td>\n",
              "      <td>Zimbabwe</td>\n",
              "      <td>15</td>\n",
              "      <td>588</td>\n",
              "      <td>39</td>\n",
              "    </tr>\n",
              "    <tr>\n",
              "      <th>13</th>\n",
              "      <td>14</td>\n",
              "      <td>Oman</td>\n",
              "      <td>7</td>\n",
              "      <td>240</td>\n",
              "      <td>34</td>\n",
              "    </tr>\n",
              "    <tr>\n",
              "      <th>14</th>\n",
              "      <td>15</td>\n",
              "      <td>Scotland</td>\n",
              "      <td>5</td>\n",
              "      <td>148</td>\n",
              "      <td>30</td>\n",
              "    </tr>\n",
              "    <tr>\n",
              "      <th>15</th>\n",
              "      <td>16</td>\n",
              "      <td>Nepal</td>\n",
              "      <td>5</td>\n",
              "      <td>119</td>\n",
              "      <td>24</td>\n",
              "    </tr>\n",
              "    <tr>\n",
              "      <th>16</th>\n",
              "      <td>17</td>\n",
              "      <td>UAE</td>\n",
              "      <td>9</td>\n",
              "      <td>190</td>\n",
              "      <td>21</td>\n",
              "    </tr>\n",
              "    <tr>\n",
              "      <th>17</th>\n",
              "      <td>18</td>\n",
              "      <td>Namibia</td>\n",
              "      <td>6</td>\n",
              "      <td>97</td>\n",
              "      <td>16</td>\n",
              "    </tr>\n",
              "    <tr>\n",
              "      <th>18</th>\n",
              "      <td>19</td>\n",
              "      <td>United States</td>\n",
              "      <td>8</td>\n",
              "      <td>93</td>\n",
              "      <td>12</td>\n",
              "    </tr>\n",
              "    <tr>\n",
              "      <th>19</th>\n",
              "      <td>20</td>\n",
              "      <td>Papua New Guinea</td>\n",
              "      <td>5</td>\n",
              "      <td>0</td>\n",
              "      <td>0</td>\n",
              "    </tr>\n",
              "  </tbody>\n",
              "</table>\n",
              "</div>"
            ],
            "text/plain": [
              "   POS              TEAM MATCHES POINTS RATING\n",
              "0    1       New Zealand      17  2,054    121\n",
              "1    2         Australia      25  2,945    118\n",
              "2    3             India      29  3,344    115\n",
              "3    4           England      27  3,100    115\n",
              "4    5      South Africa      20  2,137    107\n",
              "5    6          Pakistan      24  2,323     97\n",
              "6    7        Bangladesh      24  2,157     90\n",
              "7    8       West Indies      27  2,222     82\n",
              "8    9         Sri Lanka      21  1,652     79\n",
              "9   10       Afghanistan      17  1,054     62\n",
              "10  11       Netherlands       2     99     50\n",
              "11  12           Ireland      18    818     45\n",
              "12  13          Zimbabwe      15    588     39\n",
              "13  14              Oman       7    240     34\n",
              "14  15          Scotland       5    148     30\n",
              "15  16             Nepal       5    119     24\n",
              "16  17               UAE       9    190     21\n",
              "17  18           Namibia       6     97     16\n",
              "18  19     United States       8     93     12\n",
              "19  20  Papua New Guinea       5      0      0"
            ]
          },
          "metadata": {
            "tags": []
          },
          "execution_count": 168
        }
      ]
    },
    {
      "cell_type": "code",
      "metadata": {
        "id": "l75T2M6nuVjh"
      },
      "source": [
        "df.to_csv('Icc_team_ranking.csv', index = False, quoting=csv.QUOTE_NONNUMERIC)"
      ],
      "execution_count": 169,
      "outputs": []
    },
    {
      "cell_type": "markdown",
      "metadata": {
        "id": "VdoNc00jc2wG"
      },
      "source": [
        "#2. Scraping ODI Batting Rankings"
      ]
    },
    {
      "cell_type": "code",
      "metadata": {
        "id": "Tyz0mJhsdG1T"
      },
      "source": [
        "url = 'https://www.icc-cricket.com/rankings/mens/player-rankings/odi/batting'\n",
        "r = requests.get(url)\n",
        "soup = bs(r.text, 'html.parser')"
      ],
      "execution_count": 170,
      "outputs": []
    },
    {
      "cell_type": "markdown",
      "metadata": {
        "id": "zttvtYZbiXHM"
      },
      "source": [
        "#### Scrapaing the data of first ranking person"
      ]
    },
    {
      "cell_type": "code",
      "metadata": {
        "id": "_6Y9tqXMY-qf"
      },
      "source": [
        "# Creating the list for saving the scraped data\n",
        "pos_list = []\n",
        "player_list  = []\n",
        "team_list  = []\n",
        "rating_list = []\n",
        "career_best_rating_list  = []\n",
        "\n",
        "# Scraping the position\n",
        "pos = soup.find('td', class_=\"rankings-block__position\").text\n",
        "pos_list.append(pos)\n",
        "\n",
        "# Scraping the player\n",
        "player = soup.find('div', class_=\"rankings-block__banner--name-large\").text\n",
        "player_list.append(player)\n",
        "\n",
        "# Scraping the team name\n",
        "team = soup.find('div', class_ = \"rankings-block__banner--nationality\").text.strip().replace('\\n','')\n",
        "team_list.append(team)\n",
        "\n",
        "# Scraping the rating\n",
        "rating = soup.find('div', class_=\"rankings-block__banner--rating\").text\n",
        "rating_list.append(rating)\n",
        "\n",
        "# Scrpaing career_best_rating\n",
        "career_best_rating  = soup.find('span', class_=\"rankings-block__career-best-text\").text.strip()\n",
        "career_best_rating_list.append(career_best_rating)"
      ],
      "execution_count": 171,
      "outputs": []
    },
    {
      "cell_type": "markdown",
      "metadata": {
        "id": "ZYGxL0kQi5Oz"
      },
      "source": [
        "#### Scraping the data after first person "
      ]
    },
    {
      "cell_type": "code",
      "metadata": {
        "id": "iRSo6fmZe8JD"
      },
      "source": [
        "container = soup.find_all('tr', class_=\"table-body\")\n",
        "\n",
        "for i in container:#[0:1]:\n",
        "\n",
        "  # Scraping the position\n",
        "  pos = i.find('td', class_=\"table-body__cell table-body__cell--position u-text-right\").text.strip()\n",
        "  pos = pos.split('\\n') # splitting to get only position\n",
        "  pos = pos[0] # \n",
        "  pos_list.append(pos)\n",
        "  \n",
        "  # Scraping the player\n",
        "  player = i.find('td', class_=\"table-body__cell rankings-table__name name\").text.strip()\n",
        "  player_list.append(player)\n",
        "\n",
        "  # Scraping the team\n",
        "  team = i.find('span', class_=\"table-body__logo-text\").text.strip()\n",
        "  team_list.append(team)\n",
        "\n",
        "  # Scraping the rating\n",
        "  rating = i.find('td', class_=\"table-body__cell rating\").text.strip()\n",
        "  rating_list.append(rating)\n",
        "\n",
        "  # Scraping the career_best_rating\n",
        "  career_best_rating = i.find('td', class_=\"table-body__cell u-text-right u-hide-phablet\").text.strip()\n",
        "  career_best_rating_list.append(career_best_rating)"
      ],
      "execution_count": 172,
      "outputs": []
    },
    {
      "cell_type": "markdown",
      "metadata": {
        "id": "R7oy0HXolR1G"
      },
      "source": [
        "#### Creating the dataframe and saving the data"
      ]
    },
    {
      "cell_type": "code",
      "metadata": {
        "id": "LKGYfy2HfSDo"
      },
      "source": [
        "df  = pd.DataFrame({\n",
        "    'POS' : pos_list,\n",
        "    'PLAYER' : player_list,\n",
        "    'TEAM' : team_list,\n",
        "    'RATING' : rating_list,\n",
        "    'CAREER BEST RATING': career_best_rating_list\n",
        "})\n",
        "\n",
        "# replacing the unnecessary data with ''\n",
        "df.replace(to_replace = 'This player has moved down in the rankings since the previous rankings update', value='', inplace= True)\n",
        "\n",
        "# Saving the dataframe\n",
        "df.to_csv('Icc_ ODI_Batting_Rankings.csv', index = False, quoting=csv.QUOTE_NONNUMERIC)"
      ],
      "execution_count": 173,
      "outputs": []
    },
    {
      "cell_type": "code",
      "metadata": {
        "colab": {
          "base_uri": "https://localhost:8080/",
          "height": 404
        },
        "id": "IhHBi_3Tmj7G",
        "outputId": "05d8e726-c8ea-41bc-d5be-7f7ee8871fcb"
      },
      "source": [
        "df"
      ],
      "execution_count": 174,
      "outputs": [
        {
          "output_type": "execute_result",
          "data": {
            "text/html": [
              "<div>\n",
              "<style scoped>\n",
              "    .dataframe tbody tr th:only-of-type {\n",
              "        vertical-align: middle;\n",
              "    }\n",
              "\n",
              "    .dataframe tbody tr th {\n",
              "        vertical-align: top;\n",
              "    }\n",
              "\n",
              "    .dataframe thead th {\n",
              "        text-align: right;\n",
              "    }\n",
              "</style>\n",
              "<table border=\"1\" class=\"dataframe\">\n",
              "  <thead>\n",
              "    <tr style=\"text-align: right;\">\n",
              "      <th></th>\n",
              "      <th>POS</th>\n",
              "      <th>PLAYER</th>\n",
              "      <th>TEAM</th>\n",
              "      <th>RATING</th>\n",
              "      <th>CAREER BEST RATING</th>\n",
              "    </tr>\n",
              "  </thead>\n",
              "  <tbody>\n",
              "    <tr>\n",
              "      <th>0</th>\n",
              "      <td>1</td>\n",
              "      <td>Babar Azam</td>\n",
              "      <td>PAK</td>\n",
              "      <td>865</td>\n",
              "      <td>865 v South Africa, 07/04/2021</td>\n",
              "    </tr>\n",
              "    <tr>\n",
              "      <th>1</th>\n",
              "      <td>2</td>\n",
              "      <td>Virat Kohli</td>\n",
              "      <td>IND</td>\n",
              "      <td>857</td>\n",
              "      <td>911 v England, 12/07/2018</td>\n",
              "    </tr>\n",
              "    <tr>\n",
              "      <th>2</th>\n",
              "      <td>3</td>\n",
              "      <td>Rohit Sharma</td>\n",
              "      <td>IND</td>\n",
              "      <td>825</td>\n",
              "      <td>885 v Sri Lanka, 06/07/2019</td>\n",
              "    </tr>\n",
              "    <tr>\n",
              "      <th>3</th>\n",
              "      <td>4</td>\n",
              "      <td>Ross Taylor</td>\n",
              "      <td>NZ</td>\n",
              "      <td>801</td>\n",
              "      <td>841 v Bangladesh, 05/06/2019</td>\n",
              "    </tr>\n",
              "    <tr>\n",
              "      <th>4</th>\n",
              "      <td>5</td>\n",
              "      <td>Aaron Finch</td>\n",
              "      <td>AUS</td>\n",
              "      <td>791</td>\n",
              "      <td>798 v England, 25/06/2019</td>\n",
              "    </tr>\n",
              "    <tr>\n",
              "      <th>...</th>\n",
              "      <td>...</td>\n",
              "      <td>...</td>\n",
              "      <td>...</td>\n",
              "      <td>...</td>\n",
              "      <td>...</td>\n",
              "    </tr>\n",
              "    <tr>\n",
              "      <th>95</th>\n",
              "      <td>96</td>\n",
              "      <td>Matthew Cross</td>\n",
              "      <td>SCO</td>\n",
              "      <td>416</td>\n",
              "      <td>427 v Oman, 18/08/2019</td>\n",
              "    </tr>\n",
              "    <tr>\n",
              "      <th>96</th>\n",
              "      <td>97</td>\n",
              "      <td>Tony Ura</td>\n",
              "      <td>PNG</td>\n",
              "      <td>415</td>\n",
              "      <td>416 v Namibia, 23/09/2019</td>\n",
              "    </tr>\n",
              "    <tr>\n",
              "      <th>97</th>\n",
              "      <td></td>\n",
              "      <td>Gulbadin Naib</td>\n",
              "      <td>AFG</td>\n",
              "      <td>415</td>\n",
              "      <td>440 v Ireland, 28/02/2018</td>\n",
              "    </tr>\n",
              "    <tr>\n",
              "      <th>98</th>\n",
              "      <td>99</td>\n",
              "      <td>Chris Woakes</td>\n",
              "      <td>ENG</td>\n",
              "      <td>411</td>\n",
              "      <td>481 v Australia, 26/01/2018</td>\n",
              "    </tr>\n",
              "    <tr>\n",
              "      <th>99</th>\n",
              "      <td>100</td>\n",
              "      <td>Sam Billings</td>\n",
              "      <td>ENG</td>\n",
              "      <td>409</td>\n",
              "      <td>415 v Australia, 16/09/2020</td>\n",
              "    </tr>\n",
              "  </tbody>\n",
              "</table>\n",
              "<p>100 rows × 5 columns</p>\n",
              "</div>"
            ],
            "text/plain": [
              "    POS         PLAYER TEAM RATING              CAREER BEST RATING\n",
              "0     1     Babar Azam  PAK    865  865 v South Africa, 07/04/2021\n",
              "1     2    Virat Kohli  IND    857       911 v England, 12/07/2018\n",
              "2     3   Rohit Sharma  IND    825     885 v Sri Lanka, 06/07/2019\n",
              "3     4    Ross Taylor   NZ    801    841 v Bangladesh, 05/06/2019\n",
              "4     5    Aaron Finch  AUS    791       798 v England, 25/06/2019\n",
              "..  ...            ...  ...    ...                             ...\n",
              "95   96  Matthew Cross  SCO    416          427 v Oman, 18/08/2019\n",
              "96   97       Tony Ura  PNG    415       416 v Namibia, 23/09/2019\n",
              "97       Gulbadin Naib  AFG    415       440 v Ireland, 28/02/2018\n",
              "98   99   Chris Woakes  ENG    411     481 v Australia, 26/01/2018\n",
              "99  100   Sam Billings  ENG    409     415 v Australia, 16/09/2020\n",
              "\n",
              "[100 rows x 5 columns]"
            ]
          },
          "metadata": {
            "tags": []
          },
          "execution_count": 174
        }
      ]
    },
    {
      "cell_type": "markdown",
      "metadata": {
        "id": "RhFxFu-YnHb-"
      },
      "source": [
        "# 3. Scraping the ODI Bowling Rankings data"
      ]
    },
    {
      "cell_type": "code",
      "metadata": {
        "id": "d1mIeEItn9yz"
      },
      "source": [
        "url = 'https://www.icc-cricket.com/rankings/mens/player-rankings/odi/bowling'\n",
        "r = requests.get(url)\n",
        "soup = bs(r.text, 'html.parser')\n"
      ],
      "execution_count": 175,
      "outputs": []
    },
    {
      "cell_type": "markdown",
      "metadata": {
        "id": "mCGV2JFKtOgj"
      },
      "source": [
        "#### Scrapaing the data of first ranking person"
      ]
    },
    {
      "cell_type": "code",
      "metadata": {
        "id": "e6hKg9PMtD9W"
      },
      "source": [
        "# Creating the list for saving the scraped data\n",
        "pos_list = []\n",
        "player_list  = []\n",
        "team_list  = []\n",
        "rating_list = []\n",
        "career_best_rating_list  = []\n",
        "\n",
        "# Scraping the position\n",
        "pos = soup.find('td', class_=\"rankings-block__position\").text\n",
        "pos_list.append(pos)\n",
        "\n",
        "# Scraping the player\n",
        "player = soup.find('div', class_=\"rankings-block__banner--name-large\").text\n",
        "player_list.append(player)\n",
        "\n",
        "# Scraping the team name\n",
        "team = soup.find('div', class_ = \"rankings-block__banner--nationality\").text.strip().replace('\\n','')\n",
        "team_list.append(team)\n",
        "\n",
        "# Scraping the rating\n",
        "rating = soup.find('div', class_=\"rankings-block__banner--rating\").text\n",
        "rating_list.append(rating)\n",
        "\n",
        "# Scrpaing career_best_rating\n",
        "career_best_rating  = soup.find('span', class_=\"rankings-block__career-best-text\").text.strip()\n",
        "career_best_rating_list.append(career_best_rating)"
      ],
      "execution_count": 176,
      "outputs": []
    },
    {
      "cell_type": "markdown",
      "metadata": {
        "id": "tRio09mStViR"
      },
      "source": [
        "#### Scraping the data after first person "
      ]
    },
    {
      "cell_type": "code",
      "metadata": {
        "id": "Sm99Jk9EtgNS"
      },
      "source": [
        "container = soup.find_all('tr', class_=\"table-body\")\n",
        "\n",
        "for i in container:#[0:1]:\n",
        "\n",
        "  # Scraping the position\n",
        "  pos = i.find('td', class_=\"table-body__cell table-body__cell--position u-text-right\").text.strip()\n",
        "  pos = pos.split('\\n') # splitting to get only position\n",
        "  pos = pos[0] # \n",
        "  pos_list.append(pos)\n",
        "  \n",
        "  # Scraping the player\n",
        "  player = i.find('td', class_=\"table-body__cell rankings-table__name name\").text.strip()\n",
        "  player_list.append(player)\n",
        "\n",
        "  # Scraping the team\n",
        "  team = i.find('span', class_=\"table-body__logo-text\").text.strip()\n",
        "  team_list.append(team)\n",
        "\n",
        "  # Scraping the rating\n",
        "  rating = i.find('td', class_=\"table-body__cell rating\").text.strip()\n",
        "  rating_list.append(rating)\n",
        "\n",
        "  # Scraping the career_best_rating\n",
        "  career_best_rating = i.find('td', class_=\"table-body__cell u-text-right u-hide-phablet\").text.strip()\n",
        "  career_best_rating_list.append(career_best_rating)"
      ],
      "execution_count": 177,
      "outputs": []
    },
    {
      "cell_type": "markdown",
      "metadata": {
        "id": "kHHu1DheuS1L"
      },
      "source": [
        "#### Creating the dataframe and saving the data"
      ]
    },
    {
      "cell_type": "code",
      "metadata": {
        "id": "yk5giQ94tkny"
      },
      "source": [
        "df  = pd.DataFrame({\n",
        "    'POS' : pos_list,\n",
        "    'PLAYER' : player_list,\n",
        "    'TEAM' : team_list,\n",
        "    'RATING' : rating_list,\n",
        "    'CAREER BEST RATING': career_best_rating_list\n",
        "})\n",
        "\n",
        "# replacing the unnecessary data with ''\n",
        "df.replace(to_replace = 'This player has moved down in the rankings since the previous rankings update', value='', inplace= True)\n",
        "\n",
        "# Saving the dataframe\n",
        "df.to_csv('Icc_ODI Bowling Rankings.csv', index = False, quoting=csv.QUOTE_NONNUMERIC)"
      ],
      "execution_count": 178,
      "outputs": []
    },
    {
      "cell_type": "code",
      "metadata": {
        "colab": {
          "base_uri": "https://localhost:8080/",
          "height": 404
        },
        "id": "HZDYA-1htmb0",
        "outputId": "4e749976-5327-45e3-dd72-0ff9cce51848"
      },
      "source": [
        "df"
      ],
      "execution_count": 179,
      "outputs": [
        {
          "output_type": "execute_result",
          "data": {
            "text/html": [
              "<div>\n",
              "<style scoped>\n",
              "    .dataframe tbody tr th:only-of-type {\n",
              "        vertical-align: middle;\n",
              "    }\n",
              "\n",
              "    .dataframe tbody tr th {\n",
              "        vertical-align: top;\n",
              "    }\n",
              "\n",
              "    .dataframe thead th {\n",
              "        text-align: right;\n",
              "    }\n",
              "</style>\n",
              "<table border=\"1\" class=\"dataframe\">\n",
              "  <thead>\n",
              "    <tr style=\"text-align: right;\">\n",
              "      <th></th>\n",
              "      <th>POS</th>\n",
              "      <th>PLAYER</th>\n",
              "      <th>TEAM</th>\n",
              "      <th>RATING</th>\n",
              "      <th>CAREER BEST RATING</th>\n",
              "    </tr>\n",
              "  </thead>\n",
              "  <tbody>\n",
              "    <tr>\n",
              "      <th>0</th>\n",
              "      <td>1</td>\n",
              "      <td>Trent Boult</td>\n",
              "      <td>NZ</td>\n",
              "      <td>737</td>\n",
              "      <td>770 v West Indies, 22/06/2019</td>\n",
              "    </tr>\n",
              "    <tr>\n",
              "      <th>1</th>\n",
              "      <td>2</td>\n",
              "      <td>Mujeeb Ur Rahman</td>\n",
              "      <td>AFG</td>\n",
              "      <td>708</td>\n",
              "      <td>712 v Ireland, 24/01/2021</td>\n",
              "    </tr>\n",
              "    <tr>\n",
              "      <th>2</th>\n",
              "      <td>3</td>\n",
              "      <td>Matt Henry</td>\n",
              "      <td>NZ</td>\n",
              "      <td>691</td>\n",
              "      <td>691 v Bangladesh, 26/03/2021</td>\n",
              "    </tr>\n",
              "    <tr>\n",
              "      <th>3</th>\n",
              "      <td>4</td>\n",
              "      <td>Jasprit Bumrah</td>\n",
              "      <td>IND</td>\n",
              "      <td>690</td>\n",
              "      <td>841 v West Indies, 01/11/2018</td>\n",
              "    </tr>\n",
              "    <tr>\n",
              "      <th>4</th>\n",
              "      <td>5</td>\n",
              "      <td>Mehedi Hasan</td>\n",
              "      <td>BAN</td>\n",
              "      <td>668</td>\n",
              "      <td>694 v West Indies, 25/01/2021</td>\n",
              "    </tr>\n",
              "    <tr>\n",
              "      <th>...</th>\n",
              "      <td>...</td>\n",
              "      <td>...</td>\n",
              "      <td>...</td>\n",
              "      <td>...</td>\n",
              "      <td>...</td>\n",
              "    </tr>\n",
              "    <tr>\n",
              "      <th>95</th>\n",
              "      <td>96</td>\n",
              "      <td>Mohammad Nawaz</td>\n",
              "      <td>PAK</td>\n",
              "      <td>376</td>\n",
              "      <td>376 v South Africa, 07/04/2021</td>\n",
              "    </tr>\n",
              "    <tr>\n",
              "      <th>96</th>\n",
              "      <td>97</td>\n",
              "      <td>Donald Tiripano</td>\n",
              "      <td>ZIM</td>\n",
              "      <td>373</td>\n",
              "      <td>373 v Pakistan, 03/11/2020</td>\n",
              "    </tr>\n",
              "    <tr>\n",
              "      <th>97</th>\n",
              "      <td>98</td>\n",
              "      <td>Bradley Wheal</td>\n",
              "      <td>SCO</td>\n",
              "      <td>372</td>\n",
              "      <td>385 v Sri Lanka, 21/05/2019</td>\n",
              "    </tr>\n",
              "    <tr>\n",
              "      <th>98</th>\n",
              "      <td>99</td>\n",
              "      <td>Alasdair Evans</td>\n",
              "      <td>SCO</td>\n",
              "      <td>366</td>\n",
              "      <td>421 v England, 10/06/2018</td>\n",
              "    </tr>\n",
              "    <tr>\n",
              "      <th>99</th>\n",
              "      <td>100</td>\n",
              "      <td>Assad Vala</td>\n",
              "      <td>PNG</td>\n",
              "      <td>363</td>\n",
              "      <td>369 v Namibia, 23/09/2019</td>\n",
              "    </tr>\n",
              "  </tbody>\n",
              "</table>\n",
              "<p>100 rows × 5 columns</p>\n",
              "</div>"
            ],
            "text/plain": [
              "    POS            PLAYER TEAM RATING              CAREER BEST RATING\n",
              "0     1       Trent Boult   NZ    737   770 v West Indies, 22/06/2019\n",
              "1     2  Mujeeb Ur Rahman  AFG    708       712 v Ireland, 24/01/2021\n",
              "2     3        Matt Henry   NZ    691    691 v Bangladesh, 26/03/2021\n",
              "3     4    Jasprit Bumrah  IND    690   841 v West Indies, 01/11/2018\n",
              "4     5      Mehedi Hasan  BAN    668   694 v West Indies, 25/01/2021\n",
              "..  ...               ...  ...    ...                             ...\n",
              "95   96    Mohammad Nawaz  PAK    376  376 v South Africa, 07/04/2021\n",
              "96   97   Donald Tiripano  ZIM    373      373 v Pakistan, 03/11/2020\n",
              "97   98     Bradley Wheal  SCO    372     385 v Sri Lanka, 21/05/2019\n",
              "98   99    Alasdair Evans  SCO    366       421 v England, 10/06/2018\n",
              "99  100        Assad Vala  PNG    363       369 v Namibia, 23/09/2019\n",
              "\n",
              "[100 rows x 5 columns]"
            ]
          },
          "metadata": {
            "tags": []
          },
          "execution_count": 179
        }
      ]
    },
    {
      "cell_type": "markdown",
      "metadata": {
        "id": "GIrF_Yj4uYFa"
      },
      "source": [
        "# 4. Men's ODI All-Rounder Rankings"
      ]
    },
    {
      "cell_type": "code",
      "metadata": {
        "id": "D7HFlWTEvErr"
      },
      "source": [
        "url = 'https://www.icc-cricket.com/rankings/mens/player-rankings/odi/all-rounder'\n",
        "r = requests.get(url)\n",
        "soup = bs(r.text, 'html.parser')"
      ],
      "execution_count": 180,
      "outputs": []
    },
    {
      "cell_type": "markdown",
      "metadata": {
        "id": "0m8kacxJvQZW"
      },
      "source": [
        "#### Scrapaing the data of first ranking person"
      ]
    },
    {
      "cell_type": "code",
      "metadata": {
        "id": "D6y09g6-vOyj"
      },
      "source": [
        "# Creating the list for saving the scraped data\n",
        "pos_list = []\n",
        "player_list  = []\n",
        "team_list  = []\n",
        "rating_list = []\n",
        "career_best_rating_list  = []\n",
        "\n",
        "# Scraping the position\n",
        "pos = soup.find('td', class_=\"rankings-block__position\").text\n",
        "pos_list.append(pos)\n",
        "\n",
        "# Scraping the player\n",
        "player = soup.find('div', class_=\"rankings-block__banner--name-large\").text\n",
        "player_list.append(player)\n",
        "\n",
        "# Scraping the team name\n",
        "team = soup.find('div', class_ = \"rankings-block__banner--nationality\").text.strip().replace('\\n','')\n",
        "team_list.append(team)\n",
        "\n",
        "# Scraping the rating\n",
        "rating = soup.find('div', class_=\"rankings-block__banner--rating\").text\n",
        "rating_list.append(rating)\n",
        "\n",
        "# Scrpaing career_best_rating\n",
        "career_best_rating  = soup.find('span', class_=\"rankings-block__career-best-text\").text.strip()\n",
        "career_best_rating_list.append(career_best_rating)"
      ],
      "execution_count": 181,
      "outputs": []
    },
    {
      "cell_type": "markdown",
      "metadata": {
        "id": "S7VFEwxQvfN1"
      },
      "source": [
        "#### Scraping the data after first person "
      ]
    },
    {
      "cell_type": "code",
      "metadata": {
        "id": "BAKFN_XEvitB"
      },
      "source": [
        "container = soup.find_all('tr', class_=\"table-body\")\n",
        "\n",
        "for i in container:#[0:1]:\n",
        "\n",
        "  # Scraping the position\n",
        "  pos = i.find('td', class_=\"table-body__cell table-body__cell--position u-text-right\").text.strip()\n",
        "  pos = pos.split('\\n') # splitting to get only position\n",
        "  pos = pos[0] # \n",
        "  pos_list.append(pos)\n",
        "  \n",
        "  # Scraping the player\n",
        "  player = i.find('td', class_=\"table-body__cell rankings-table__name name\").text.strip()\n",
        "  player_list.append(player)\n",
        "\n",
        "  # Scraping the team\n",
        "  team = i.find('span', class_=\"table-body__logo-text\").text.strip()\n",
        "  team_list.append(team)\n",
        "\n",
        "  # Scraping the rating\n",
        "  rating = i.find('td', class_=\"table-body__cell rating\").text.strip()\n",
        "  rating_list.append(rating)\n",
        "\n",
        "  # Scraping the career_best_rating\n",
        "  career_best_rating = i.find('td', class_=\"table-body__cell u-text-right u-hide-phablet\").text.strip()\n",
        "  career_best_rating_list.append(career_best_rating)"
      ],
      "execution_count": 182,
      "outputs": []
    },
    {
      "cell_type": "markdown",
      "metadata": {
        "id": "sbFPhum0vrzN"
      },
      "source": [
        "#### Creating the dataframe and saving the data"
      ]
    },
    {
      "cell_type": "code",
      "metadata": {
        "id": "_IKPEnGfvq-J"
      },
      "source": [
        "df  = pd.DataFrame({\n",
        "    'POS' : pos_list,\n",
        "    'PLAYER' : player_list,\n",
        "    'TEAM' : team_list,\n",
        "    'RATING' : rating_list,\n",
        "    'CAREER BEST RATING': career_best_rating_list\n",
        "})\n",
        "\n",
        "# replacing the unnecessary data with ''\n",
        "df.replace(to_replace = 'This player has moved down in the rankings since the previous rankings update', value='', inplace= True)\n",
        "\n",
        "# Saving the dataframe\n",
        "df.to_csv('Icc_ODI All-Rounder Rankings.csv', index = False, quoting=csv.QUOTE_NONNUMERIC)"
      ],
      "execution_count": 183,
      "outputs": []
    },
    {
      "cell_type": "code",
      "metadata": {
        "colab": {
          "base_uri": "https://localhost:8080/",
          "height": 644
        },
        "id": "mqQucST7v5wF",
        "outputId": "7b2f2096-aa33-449d-9753-467258f7394f"
      },
      "source": [
        "df"
      ],
      "execution_count": 184,
      "outputs": [
        {
          "output_type": "execute_result",
          "data": {
            "text/html": [
              "<div>\n",
              "<style scoped>\n",
              "    .dataframe tbody tr th:only-of-type {\n",
              "        vertical-align: middle;\n",
              "    }\n",
              "\n",
              "    .dataframe tbody tr th {\n",
              "        vertical-align: top;\n",
              "    }\n",
              "\n",
              "    .dataframe thead th {\n",
              "        text-align: right;\n",
              "    }\n",
              "</style>\n",
              "<table border=\"1\" class=\"dataframe\">\n",
              "  <thead>\n",
              "    <tr style=\"text-align: right;\">\n",
              "      <th></th>\n",
              "      <th>POS</th>\n",
              "      <th>PLAYER</th>\n",
              "      <th>TEAM</th>\n",
              "      <th>RATING</th>\n",
              "      <th>CAREER BEST RATING</th>\n",
              "    </tr>\n",
              "  </thead>\n",
              "  <tbody>\n",
              "    <tr>\n",
              "      <th>0</th>\n",
              "      <td>1</td>\n",
              "      <td>Shakib Al Hasan</td>\n",
              "      <td>BAN</td>\n",
              "      <td>408</td>\n",
              "      <td>453 v Zimbabwe, 05/11/2009</td>\n",
              "    </tr>\n",
              "    <tr>\n",
              "      <th>1</th>\n",
              "      <td>2</td>\n",
              "      <td>Ben Stokes</td>\n",
              "      <td>ENG</td>\n",
              "      <td>295</td>\n",
              "      <td>319 v New Zealand, 14/07/2019</td>\n",
              "    </tr>\n",
              "    <tr>\n",
              "      <th>2</th>\n",
              "      <td>3</td>\n",
              "      <td>Mohammad Nabi</td>\n",
              "      <td>AFG</td>\n",
              "      <td>294</td>\n",
              "      <td>349 v Zimbabwe, 26/02/2017</td>\n",
              "    </tr>\n",
              "    <tr>\n",
              "      <th>3</th>\n",
              "      <td>4</td>\n",
              "      <td>Chris Woakes</td>\n",
              "      <td>ENG</td>\n",
              "      <td>273</td>\n",
              "      <td>312 v New Zealand, 10/03/2018</td>\n",
              "    </tr>\n",
              "    <tr>\n",
              "      <th>4</th>\n",
              "      <td>5</td>\n",
              "      <td>Rashid Khan</td>\n",
              "      <td>AFG</td>\n",
              "      <td>270</td>\n",
              "      <td>359 v Pakistan, 21/09/2018</td>\n",
              "    </tr>\n",
              "    <tr>\n",
              "      <th>5</th>\n",
              "      <td>6</td>\n",
              "      <td>Mitchell Santner</td>\n",
              "      <td>NZ</td>\n",
              "      <td>268</td>\n",
              "      <td>317 v England, 10/03/2018</td>\n",
              "    </tr>\n",
              "    <tr>\n",
              "      <th>6</th>\n",
              "      <td>7</td>\n",
              "      <td>Imad Wasim</td>\n",
              "      <td>PAK</td>\n",
              "      <td>263</td>\n",
              "      <td>299 v Bangladesh, 05/07/2019</td>\n",
              "    </tr>\n",
              "    <tr>\n",
              "      <th>7</th>\n",
              "      <td>8</td>\n",
              "      <td>Colin de Grandhomme</td>\n",
              "      <td>NZ</td>\n",
              "      <td>257</td>\n",
              "      <td>266 v India, 11/02/2020</td>\n",
              "    </tr>\n",
              "    <tr>\n",
              "      <th>8</th>\n",
              "      <td>9</td>\n",
              "      <td>Ravindra Jadeja</td>\n",
              "      <td>IND</td>\n",
              "      <td>245</td>\n",
              "      <td>377 v England, 23/06/2013</td>\n",
              "    </tr>\n",
              "    <tr>\n",
              "      <th>9</th>\n",
              "      <td>10</td>\n",
              "      <td>Sean Williams</td>\n",
              "      <td>ZIM</td>\n",
              "      <td>238</td>\n",
              "      <td>241 v Sri Lanka, 30/06/2017</td>\n",
              "    </tr>\n",
              "    <tr>\n",
              "      <th>10</th>\n",
              "      <td>11</td>\n",
              "      <td>Sikandar Raza</td>\n",
              "      <td>ZIM</td>\n",
              "      <td>237</td>\n",
              "      <td>275 v Ireland, 16/03/2018</td>\n",
              "    </tr>\n",
              "    <tr>\n",
              "      <th>11</th>\n",
              "      <td>12</td>\n",
              "      <td>Andile Phehlukwayo</td>\n",
              "      <td>SA</td>\n",
              "      <td>227</td>\n",
              "      <td>261 v Afghanistan, 15/06/2019</td>\n",
              "    </tr>\n",
              "    <tr>\n",
              "      <th>12</th>\n",
              "      <td>13</td>\n",
              "      <td>Hardik Pandya</td>\n",
              "      <td>IND</td>\n",
              "      <td>226</td>\n",
              "      <td>262 v South Africa, 16/02/2018</td>\n",
              "    </tr>\n",
              "    <tr>\n",
              "      <th>13</th>\n",
              "      <td></td>\n",
              "      <td>Jimmy Neesham</td>\n",
              "      <td>NZ</td>\n",
              "      <td>226</td>\n",
              "      <td>227 v England, 03/07/2019</td>\n",
              "    </tr>\n",
              "    <tr>\n",
              "      <th>14</th>\n",
              "      <td>15</td>\n",
              "      <td>Jason Holder</td>\n",
              "      <td>WI</td>\n",
              "      <td>206</td>\n",
              "      <td>214 v Sri Lanka, 10/03/2021</td>\n",
              "    </tr>\n",
              "    <tr>\n",
              "      <th>15</th>\n",
              "      <td>16</td>\n",
              "      <td>Kagiso Rabada</td>\n",
              "      <td>SA</td>\n",
              "      <td>205</td>\n",
              "      <td>224 v India, 05/06/2019</td>\n",
              "    </tr>\n",
              "    <tr>\n",
              "      <th>16</th>\n",
              "      <td>17</td>\n",
              "      <td>Trent Boult</td>\n",
              "      <td>NZ</td>\n",
              "      <td>202</td>\n",
              "      <td>213 v India, 09/07/2019</td>\n",
              "    </tr>\n",
              "    <tr>\n",
              "      <th>17</th>\n",
              "      <td>18</td>\n",
              "      <td>Marcus Stoinis</td>\n",
              "      <td>AUS</td>\n",
              "      <td>201</td>\n",
              "      <td>243 v India, 08/03/2019</td>\n",
              "    </tr>\n",
              "    <tr>\n",
              "      <th>18</th>\n",
              "      <td>19</td>\n",
              "      <td>Glenn Maxwell</td>\n",
              "      <td>AUS</td>\n",
              "      <td>200</td>\n",
              "      <td>350 v England, 11/09/2015</td>\n",
              "    </tr>\n",
              "    <tr>\n",
              "      <th>19</th>\n",
              "      <td></td>\n",
              "      <td>Mehedi Hasan</td>\n",
              "      <td>BAN</td>\n",
              "      <td>200</td>\n",
              "      <td>222 v Sri Lanka, 28/07/2019</td>\n",
              "    </tr>\n",
              "  </tbody>\n",
              "</table>\n",
              "</div>"
            ],
            "text/plain": [
              "   POS               PLAYER TEAM RATING              CAREER BEST RATING\n",
              "0    1      Shakib Al Hasan  BAN    408      453 v Zimbabwe, 05/11/2009\n",
              "1    2           Ben Stokes  ENG    295   319 v New Zealand, 14/07/2019\n",
              "2    3        Mohammad Nabi  AFG    294      349 v Zimbabwe, 26/02/2017\n",
              "3    4         Chris Woakes  ENG    273   312 v New Zealand, 10/03/2018\n",
              "4    5          Rashid Khan  AFG    270      359 v Pakistan, 21/09/2018\n",
              "5    6     Mitchell Santner   NZ    268       317 v England, 10/03/2018\n",
              "6    7           Imad Wasim  PAK    263    299 v Bangladesh, 05/07/2019\n",
              "7    8  Colin de Grandhomme   NZ    257         266 v India, 11/02/2020\n",
              "8    9      Ravindra Jadeja  IND    245       377 v England, 23/06/2013\n",
              "9   10        Sean Williams  ZIM    238     241 v Sri Lanka, 30/06/2017\n",
              "10  11        Sikandar Raza  ZIM    237       275 v Ireland, 16/03/2018\n",
              "11  12   Andile Phehlukwayo   SA    227   261 v Afghanistan, 15/06/2019\n",
              "12  13        Hardik Pandya  IND    226  262 v South Africa, 16/02/2018\n",
              "13            Jimmy Neesham   NZ    226       227 v England, 03/07/2019\n",
              "14  15         Jason Holder   WI    206     214 v Sri Lanka, 10/03/2021\n",
              "15  16        Kagiso Rabada   SA    205         224 v India, 05/06/2019\n",
              "16  17          Trent Boult   NZ    202         213 v India, 09/07/2019\n",
              "17  18       Marcus Stoinis  AUS    201         243 v India, 08/03/2019\n",
              "18  19        Glenn Maxwell  AUS    200       350 v England, 11/09/2015\n",
              "19             Mehedi Hasan  BAN    200     222 v Sri Lanka, 28/07/2019"
            ]
          },
          "metadata": {
            "tags": []
          },
          "execution_count": 184
        }
      ]
    }
  ]
}